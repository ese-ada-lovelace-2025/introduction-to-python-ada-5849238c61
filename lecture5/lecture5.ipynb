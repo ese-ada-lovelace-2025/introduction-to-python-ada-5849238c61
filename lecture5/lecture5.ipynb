{
 "cells": [
  {
   "cell_type": "code",
   "execution_count": 1,
   "metadata": {},
   "outputs": [],
   "source": [
    "import pybryt\n",
    "from lecture import pybryt_reference"
   ]
  },
  {
   "cell_type": "markdown",
   "metadata": {},
   "source": [
    "# Introduction to Python\n",
    "\n",
    "# Lecture 5\n",
    "\n",
    "## Introduction\n",
    "\n",
    "As we saw in [lecture 4](..\\lecture4\\lecture4.ipynb), Python classes combine a storing data (attributes) and functions (methods) that process that data. They act as a way to create new data types. In the previous lecture, we learned some of the individual features of classes. In this section we will learn to put multiple features together to implement and improve a class based on the functionality we need it to provide.\n",
    "\n",
    "## Example 1: Quaternions\n",
    "\n",
    "Just as complex numbers extend the set of real numbers into a \"two-dimensional\" space, [quaternions](https://en.wikipedia.org/wiki/Quaternion) extend the concept of \"2D\" complex numbers into a \"four-dimensional\" space. Quaternions are used in computer graphics, control theory, signal processing, and orbital mechanics, and more generally in areas involving applying multiple rotations or scalings using floating point arthimetic. In the realm of science, they are also used in physics to describe the quantum spin of a particle. We are going to briefly describe the mathematical properties of quaternions as numbers and then you will work to implement a class to represent them.\n",
    "\n",
    "### Basic Definition\n",
    "\n",
    "A quarterions is an object (viewed as a single number) consisting four real coefficients, say $a$, $b$, $c$, and $d$, along with rules for addition, mutilplication by a scalar, and multiplication by another quaternion. The rules are as follows:\n",
    "\n",
    "1. Addition: \n",
    "  $$(a, b, c, d) + (e, f, g, h) = (a+e, b+f, c+g, d+h)$$\n",
    "2. Multiplication by a scalar:\n",
    "  $$r(a, b, c, d) = (ra, rb, rc, rd)$$\n",
    "3. Multiplication by another quaternion: \n",
    "  $$(a, b, c, d)(e, f, g, h) = (ae - bf - cg - dh, af + be + ch - dg, ag - bh + ce + df, ah + bg - cf + de)$$\n",
    "These rules are enough to define the quaternions as a number system, as well as a [vector space](https://en.wikipedia.org/wiki/Vector_space) over the real numbers.\n",
    "\n",
    "Just as a complex number can be written in the form $a + bi$ (or in Python in a form like `1+2j`), a quaternion can be written in the form $a + bi + cj + dk$. This means they keep both engineers and mathematicians happy by having `i` & `j` both denote complex components of the number.\n",
    "\n",
    "By the rules of multiplication above we have:\n",
    "$$ i^2 = j^2 = k^2 = ijk = -1, $$\n",
    "$$ ij = k, \\quad jk = i, \\quad ki = j. $$\n",
    "In this sense, we can think of the $i$, $j$ and $k$ as three separate complex dimensions.\n",
    "\n",
    "### Implementing Quaternions\n",
    "\n",
    "This is enough information to start implementing a class to represent quaternions. We'll do this in a single cell immediately below. As you work through this section, we'll add more features to the class, and need to re-run the cell to update the class definition. If anything doesn't work or your results get confusing, try restarting the Python kernel and re-running that cell to see it it cleans up the problem.\n",
    "\n",
    "#### The Class Definition cell"
   ]
  },
  {
   "cell_type": "code",
   "execution_count": 3,
   "metadata": {},
   "outputs": [],
   "source": [
    "# Remember to re-run this cell after you've modified the class below\n",
    "# Carry on reading to see what to implement.\n",
    "\n",
    "\n",
    "class Quaternion:\n",
    "    \"\"\"Initializes a quaternion with the given values.\n",
    "\n",
    "    The first value is the real part, the rest are the imaginary parts. The imaginary\n",
    "    parts are i, j, and k.  For example, Quaternion(1, 2, 3, 4) represents the\n",
    "    quaternion 1 + 2i + 3j + 4k.\n",
    "\n",
    "    \"\"\"\n",
    "\n",
    "    def __init__(self, a, b, c, d):\n",
    "        # Although there are no private attributes in Python, by convention, we use an\n",
    "        # underscore to indicate that an attribute is private and should not be accessed\n",
    "        # directly. This is a convention, and it is not enforced by the language.\n",
    "        self._1 = a\n",
    "        self._i = b\n",
    "        self._j = c\n",
    "        self._k = d\n",
    "\n",
    "    def __str__(self):\n",
    "        \"\"\"Returns the string representation of the quaternion.\"\"\"\n",
    "\n",
    "        # Helper function to format components\n",
    "        def format_component(value, suffix):\n",
    "            return f\" {'+' if value >= 0 else '-'} {abs(value)}{suffix}\"\n",
    "\n",
    "        # Format each component\n",
    "        components = [\n",
    "            f\"{self._1}\",\n",
    "            format_component(self._i, \"i\"),\n",
    "            format_component(self._j, \"j\"),\n",
    "            format_component(self._k, \"k\"),\n",
    "        ]\n",
    "\n",
    "        return \"\".join(components)\n",
    "\n",
    "    def __add__(self,other): \n",
    "        \"\"\" Returns a Quaternion, which is the sum of this quaternion and another, taken as an argument\"\"\"\n",
    "        # Here we add the components of the two input quaternions piece-wise and output a third quaternion with components as their sums\n",
    "        A = self._1 + other._1\n",
    "        B = self._i + other._i\n",
    "        C = self._j + other._j\n",
    "        D = self._k + other._k\n",
    "        return Quaternion(A,B,C,D)\n",
    "\n",
    "    def __mul__(self,other): \n",
    "        \"\"\" Returns a Quaternion, which is the product of this quaternion and another, taken as an argument. \n",
    "        This quaternion is on the left of this multiplication -- specified because quaternion multiplication is non-commutative.\"\"\"\n",
    "        # Here we will implement quaternion multiplication using the relevant multiplication rule \n",
    "        # We will check if the object is a scalar or quaternion. If it is a scalar (float or int) we will convert it to a quaternion then implement the multiplication rule\n",
    "        # If it is not we will raise a TypeError \n",
    "\n",
    "        if not isinstance(other,Quaternion): \n",
    "            if isinstance(other,int) or isinstance(other,float):\n",
    "                Q1 = other\n",
    "                Qi=0\n",
    "                Qj=0\n",
    "                Qk=0\n",
    "            else: \n",
    "                raise TypeError(\"other not float, int, or Quaternion\")\n",
    "\n",
    "        else: \n",
    "            Q1 = other._1\n",
    "            Qi = other._i\n",
    "            Qj = other._j\n",
    "            Qk = other._k\n",
    "\n",
    "        # Now we have components, we can perform the quaternion multiplication\n",
    "        A = self._1*Q1 - self._i*Qi - self._j*Qj - self._k*Qk\n",
    "        B = self._1*Qi + self._i*Q1 + self._j*Qk - self._k*Qj\n",
    "        C = self._1*Qj - self._i*Qk + self._j*Q1 + self._k*Qi\n",
    "        D = self._1*Qk + self._i*Qj - self._j*Qi + self._k*Q1\n",
    "\n",
    "        return Quaternion(A,B,C,D)\n",
    "\n",
    "\n",
    "    def __rmul__(self,other): \n",
    "        \"\"\" Returns a Quaternion, which is the product of this quaternion and another, taken as an argument. \n",
    "        This quaternion is on the right of this multiplication -- specified because quaternion multiplication is non-commutative.\"\"\"\n",
    "        # We are going to use __mul__ within other. \n",
    "        # We know that self must be a quaternion, but other still may not be. \n",
    "        # Therefore, we check if other is a quaternion and, if not, whether it is a scalar (float or int) \n",
    "        # If it is a scalar, we turn it into a quaternion, if it is neither a scalar nor a quaternion, we return a TypeError\n",
    "        if not isinstance(other,Quaternion): \n",
    "            if isinstance(other,int) or isinstance(other,float):\n",
    "                other = Quaternion(other,0,0,0) # We re-assign the variable other here -- I do not know if I am allowed to do this, but I intend on finding out \n",
    "            else: \n",
    "                raise TypeError(\"other not float, int, or Quaternion\")\n",
    "        # Now that we have made sure other is a quaternion, we can use the properties of the quaternion class to calculate our answer:\n",
    "\n",
    "        # Thinking about it further, I am not sure why we need a __rmul__ for anything that isn't a scalar. If a quaternion is on the left, then the function will be called for\n",
    "        # That Quaternion and we will have no issues. \n",
    "        \n",
    "        return other.__mul__(self)\n",
    "\n",
    "\n",
    "    def conjugate(self): \n",
    "        \"\"\" Returns the conjugate quaterion for self as a quaternion class\"\"\" \n",
    "        # Here we just apply the conjugate for the formula.\n",
    "        return Quaternion(self._1,-self._i,-self._j,-self._k)\n",
    "\n",
    "    def __abs__(self): # Here I am assuming the third underscore below was a typo. If not, I will go back and fix it \n",
    "        \"\"\" Returns a scalar (float), equal to the absolute value of the quaternion, i.e. Q * Q.conjugate\"\"\" \n",
    "        # We can do this with quaternion multiplication, or using the metric.\n",
    "        from math import sqrt # I don't know where this should go. Honestly, I am confused about where these imports should go in general because as far as I'm aware, they just need to be done once on the kernel. \n",
    "                                # This leaves functions which require on external libraries in the lurch though. Should functions call upon the libraries they need directly, or is it enough to assume that the library will be on the kernel?\n",
    "        abs = sqrt(self._1**2 + self._i**2 + self._j**2 + self._k**2)\n",
    "        return abs\n",
    "        \n",
    "\n",
    "    def inverse(self): \n",
    "        \"\"\" Returns the inverse of the self quaternion as a quaternion. \"\"\" \n",
    "        Q_ = self.conjugate()\n",
    "        scale = self.__abs__()**-2\n",
    "        \n",
    "        \n",
    "        inv = Q_*scale\n",
    "        return inv\n",
    "     "
   ]
  },
  {
   "cell_type": "markdown",
   "metadata": {},
   "source": [
    "As with most classes, the first thing to do is to implement the initialisation method so that we can create new instances of the class from appropriate information. In this case, we've done this for you, and chosen the names of the attributes to be `_1`, `_i`, `_j`, and `_k`.\n",
    "\n",
    "We've also implemented the `__str__` method, which is called when the object is printed (as well as a few other times). This is a good way to check that the initialisation method is working as expected, and we can use it to test the core class initialisation."
   ]
  },
  {
   "cell_type": "code",
   "execution_count": 5,
   "metadata": {
    "tags": [
     "nbgrader"
    ]
   },
   "outputs": [],
   "source": [
    "assert str(Quaternion(1, 2, 3, 4)) == \"1 + 2i + 3j + 4k\""
   ]
  },
  {
   "cell_type": "markdown",
   "metadata": {},
   "source": [
    "The cell block above will show no output if the class is implemented correctly. If you see a `NameError`, then make sure that you've run the cell defining the `Quaternion` class. If you see an `AssertionError`, then\n",
    "make sure you haven't changed the initialisation or `__str__` method.\n",
    "\n",
    "### Implementing the Addition Method\n",
    "\n",
    "With the code we've already given you, you'll first need to implement the addition and multiplication methods. The addition method name to use the `+` operator is `__add__`, and it takes two arguments. The first argument is always the object itself (and as with the initialisation and `__str__` methods, it is good practice to use `self` to refer to it). The second argument is the other object being added - the Python convention is to call it `other`. This means the method signature is\n",
    "\n",
    "```python\n",
    "   def __add__(self, other):\n",
    "     # method body ending with a return statement\n",
    "```\n",
    "\n",
    "Add this method to the Quaterion class above, and implement the addition rule\n",
    "\n",
    "$$a+b\\mathit{i}+c\\mathit{j}+d\\mathit{k} + e+f\\mathit{i}+g\\mathit{j}+h\\mathit{k} = a+e+(b+f)\\mathit{i}+(c+g)\\mathit{j}+(d+h)\\mathit{k}.$$\n",
    "\n",
    "Once you're done, we can test the method by adding two quaternions together (Remember to re-run the class cell above after you've made changes to the class definition). If you see a `TypeError`, then check you've added the `__add__` method correctly (and rerun the class cell). One common mistake is geting the wrong amount of white space indentation. If you see an `AssertError` then your returned value isn't right."
   ]
  },
  {
   "cell_type": "code",
   "execution_count": 7,
   "metadata": {
    "tags": [
     "nbgrader"
    ]
   },
   "outputs": [],
   "source": [
    "q1 = Quaternion(1, 2, 3, 4)\n",
    "q2 = Quaternion(5, 6, 7, 8)\n",
    "\n",
    "assert str(q1 + q2) == \"6 + 8i + 10j + 12k\", \"Got: \" + str(q1 + q2)"
   ]
  },
  {
   "cell_type": "markdown",
   "metadata": {},
   "source": [
    "### Implementing the Multiplication Method\n",
    "\n",
    "Now, we want to implement multiplication. The method name is `__mul__`, and it takes the same arguments as the addition method. This means that method signature is\n",
    "\n",
    "```python\n",
    "   def __mul__(self, other):\n",
    "     # method body ending with a return statement\n",
    "```\n",
    "\n",
    "Here the method body will need to be a little more complicated, since there are two possible cases:\n",
    "- If `other` is a scalar number, then we need to multiply each component of the quaternion by `other`.\n",
    "- If `other` is another quaternion, then we need to use the multiplication rule above.\n",
    "\n",
    "We can check the type of `other` using the `isinstance` function. This function takes two arguments, the first is the object to check, and the second is the type to check against. It returns `True` if the object is of the given type, and `False` otherwise. For example, `isinstance(3, int)` returns `True`, and `isinstance(3, float)` returns `False`. In this case, we want to check if the `other` is a `Quaternion` object or not, using `isinstance(other, Quaternion)`.\n",
    "\n",
    "The \"quick\" way to implement scalar multiplication is just to code up the multiplication rule for quaternions, and if `other` is not a `Quaternion` object, then convert it into one with the scalar as the first component, i.e. creating `Quaternion(other, 0, 0, 0)`. Alternatively, you can use a set of `if`, `elif` and (if necessary) `else` statements to handle the cases separately. In the first case, your code will look something like\n",
    "\n",
    "```python\n",
    "def __mul__(self, other):\n",
    "   if not isinstance(other, Quaternion):\n",
    "      other = Quaternion(other, 0, 0, 0)\n",
    "  # rest of the method body    \n",
    "```\n",
    "\n",
    "in the second case, your code will look something like\n",
    "\n",
    "```python\n",
    "def __mul__(self, other):\n",
    "   if isinstance(other, Quaternion):\n",
    "      # result = multiplication rule for quaternion\n",
    "      return result\n",
    "   else:\n",
    "      # multiplication rule for scalar\n",
    "      return result\n",
    "```\n",
    " \n",
    "Try to implement all this, and then run our test cases below."
   ]
  },
  {
   "cell_type": "code",
   "execution_count": 9,
   "metadata": {
    "tags": [
     "nbgrader"
    ]
   },
   "outputs": [],
   "source": [
    "q1 = Quaternion(1, 2, 3, 4)\n",
    "q2 = Quaternion(5, 6, 7, 8)\n",
    "\n",
    "assert str(q1 * q2) == \"-60 + 12i + 30j + 24k\", \"Got: \" + str(q1 * q2)\n",
    "assert str(q2 * q1) == \"-60 + 20i + 14j + 32k\", \"Got: \" + str(q2 * q1)\n",
    "assert str(q1 * 3) == \"3 + 6i + 9j + 12k\", \"Got: \" + str(q1 * 3)"
   ]
  },
  {
   "cell_type": "markdown",
   "metadata": {},
   "source": [
    "### Additional Methods\n",
    "\n",
    "We've now implemented a method to multiply \"from the left\", i.e. solving `q * other`, but for the purposes of scalar multiplication, we also need to implement a method to multiply \"from the right\", i.e. solving `other * q`.\n",
    "\n",
    "The appropriate special method (also called a \"magic method\" or \"dunder method\") name is `__rmul__`, and it takes the same arguments as the multiplication method, except this time \"other\" is the object on the left. This means that method signature is\n",
    "\n",
    "```python\n",
    "   def __rmul__(self, other):\n",
    "     # method body ending with a return statement\n",
    "```\n",
    "\n",
    "Note that we can't just call `return self.__mul__(other)` here, since for quaternions, multiplication is not commutative (i.e. `q1 * q2` is not equal to `q2 * q2` for general quaternions `q1` and `q2`). Again there are several ways to solve this, but the one involving least code is to make `other` into a `Quaternion` object if it isn't already, and then call its `__mul__` method on self (either explicity as `other.__mul__(self)` or implicitly through `other*self`).\n",
    "\n"
   ]
  },
  {
   "cell_type": "code",
   "execution_count": 11,
   "metadata": {
    "tags": [
     "nbgrader"
    ]
   },
   "outputs": [],
   "source": [
    "q1 = Quaternion(1, 2, 3, 4)\n",
    "\n",
    "assert str(3 * q1) == \"3 + 6i + 9j + 12k\", \"Got: \" + str(3 * q1)"
   ]
  },
  {
   "cell_type": "raw",
   "metadata": {},
   "source": [
    "# Let's test this out some more: \n",
    "\n",
    "q1 = Quaternion(1, 2, 3, 4)\n",
    "q2 = Quaternion(5, 6, 7, 8)\n",
    "\n",
    "print(str(q1.__mul__(q2)))\n",
    "print(str(q2.__rmul__(q1))) #They are the same, yay! \n",
    "\n",
    "q1*\"hello\" #This works too! "
   ]
  },
  {
   "cell_type": "markdown",
   "metadata": {},
   "source": [
    "We've now implemented the core arthmetic operations for quaternions, and can move on to more advanced features. Let's start by defining the conjugate of a quaternion. Just as the conjugate of a complex number $z= a+b\\mathit{i}$ is $\\bar{z} = a - b\\mathit{i}$,  the conjugate of a quaternion $q = a + b\\mathit{i} + c\\mathit{j} + d\\mathit{k}$ is defined as $\\bar{q} = a - b\\mathit{i} - c\\mathit{j} - \\mathit{k}$. \n",
    "\n",
    "We can implement this as a method `conjugate` that takes no additional arguments, and returns a new quaternion object with the \"imaginary\" parts negated. The method signature should be\n",
    "\n",
    "```python\n",
    "   def conjugate(self):\n",
    "     # method body ending with a return statement\n",
    "```\n",
    "\n",
    "Note that $q\\bar{q} := \\|q\\|^2 = a^2 + b^2 + c^2 + d^2$, which is a positive real number. We can define the inverse or reciprocal of a quaternion as $\\frac{\\bar{q}}{\\|q\\|^2}$, and implement this as a method `inverse`.\n",
    "```python\n",
    "   def inverse(self):\n",
    "     # method body ending with a return statement\n",
    "```\n",
    "It's not technically correct to call this division, due to the non-commutative nature of quaternion multiplication. This means that there are two \"inverse functions\" for multiplication, one which solves $xa = b$ for $x$ and one which solves $ax = b$. Using the notation $a^{-1}$ for the inverse above, the inverse from the right is $ba^{-1}$ and the inverse is $a^{-1}b$.\n",
    "\n",
    "Instead of computing the magnitude $|q|$ inside the `inverse` method, implement the special `__abs__` method. This method will be called when built in `abs` function is called on a Quaternion object. Its signature is:\n",
    "```python\n",
    "   def __abs____(self):\n",
    "     # method body ending with a return statement\n",
    "```\n",
    "\n",
    "Try to implement the `conjugate` and `inverse` methods in your `Quaternion` class above, and then run the test cases below."
   ]
  },
  {
   "cell_type": "code",
   "execution_count": 13,
   "metadata": {
    "tags": [
     "nbgrader"
    ]
   },
   "outputs": [],
   "source": [
    "q1 = Quaternion(1, 1, 1, 1)\n",
    "\n",
    "assert str(q1.conjugate()) == \"1 - 1i - 1j - 1k\", \"Got: \" + str(q1.conjugate())\n",
    "assert str(abs(q1)) == \"2.0\", \"Got: \" + str(abs(q1))\n",
    "assert str(q1.inverse()) == \"0.25 - 0.25i - 0.25j - 0.25k\", \"Got: \" + str(q1.inverse())"
   ]
  },
  {
   "cell_type": "markdown",
   "metadata": {},
   "source": [
    "### Refactoring the class (optional)\n",
    "\n",
    "We've now implemented all the basic functionality of quaternions. However, the class is not particularly user-friendly. Here is a list of some things you could improve:\n",
    "\n",
    "- The `__init__` method is currently not very user-friendly. It would be nice if we could create a quaternion in a few extra ways:\n",
    "  - Let `Quaternion(1) == Quaternion(1, 0, 0, 0)`.\n",
    "  - Let `Quaternion(1+2j) == Quaternion(1, 2, 0, 0)`.\n",
    "  - Let `Quaternion([1, 2, 3, 4]) == Quaternion(1, 2, 3, 4)`.\n",
    "  \n",
    "This can be done in a number of ways. One lower effort solution is to use the `*args` and/or `**kwargs` syntax to allow for a variable number of arguments and keyword arguments. "
   ]
  },
  {
   "cell_type": "code",
   "execution_count": 15,
   "metadata": {},
   "outputs": [
    {
     "name": "stdout",
     "output_type": "stream",
     "text": [
      "(1, 2) {}\n",
      "(1, 2, 3, 4, 5) {}\n",
      "(1, 2, 3, 4, 5) {'a': 6, 'b': 7, 'c': 8}\n"
     ]
    }
   ],
   "source": [
    "def function_with_var_args(*args, **kwargs):\n",
    "    print(args, kwargs)\n",
    "\n",
    "\n",
    "function_with_var_args(1, 2)\n",
    "function_with_var_args(1, 2, 3, 4, 5)\n",
    "function_with_var_args(1, 2, 3, 4, 5, a=6, b=7, c=8)"
   ]
  },
  {
   "cell_type": "markdown",
   "metadata": {},
   "source": [
    "Another things we can implement are:\n",
    "\n",
    "- We have implemented the `__str__` method, but not the `__repr__` method. The `__repr__` method is called when the object is printed in a list or dictionary, and should return a string that can be used to recreate the object. For example, `repr(Quaternion(1, 2, 3, 4))` should return the string `\"Quaternion(1, 2, 3, 4)\"`. If we copy/paste the output of `__repr__`, we should get the same object.\n",
    "- We have implemented the `__add__`, `__mul__` and  `__rmul__`, methods, but not the `__sub__`, `__eq__` methods (or a few others).\n"
   ]
  },
  {
   "cell_type": "code",
   "execution_count": 17,
   "metadata": {
    "tags": [
     "nbgrader"
    ]
   },
   "outputs": [
    {
     "ename": "AssertionError",
     "evalue": "",
     "output_type": "error",
     "traceback": [
      "\u001b[0;31m---------------------------------------------------------------------------\u001b[0m",
      "\u001b[0;31mAssertionError\u001b[0m                            Traceback (most recent call last)",
      "Cell \u001b[0;32mIn[17], line 1\u001b[0m\n\u001b[0;32m----> 1\u001b[0m \u001b[38;5;28;01massert\u001b[39;00m \u001b[38;5;28mrepr\u001b[39m(Quaternion(\u001b[38;5;241m1\u001b[39m, \u001b[38;5;241m-\u001b[39m\u001b[38;5;241m2\u001b[39m, \u001b[38;5;241m3\u001b[39m, \u001b[38;5;241m4\u001b[39m)) \u001b[38;5;241m==\u001b[39m \u001b[38;5;124m\"\u001b[39m\u001b[38;5;124mQuaternion(1, -2, 3, 4)\u001b[39m\u001b[38;5;124m\"\u001b[39m\n\u001b[1;32m      3\u001b[0m \u001b[38;5;28;01massert\u001b[39;00m Quaternion(\u001b[38;5;241m1\u001b[39m) \u001b[38;5;241m==\u001b[39m Quaternion(\u001b[38;5;241m1\u001b[39m, \u001b[38;5;241m0\u001b[39m, \u001b[38;5;241m0\u001b[39m, \u001b[38;5;241m0\u001b[39m)\n\u001b[1;32m      4\u001b[0m \u001b[38;5;28;01massert\u001b[39;00m Quaternion(\u001b[38;5;241m1\u001b[39m, \u001b[38;5;241m2\u001b[39m) \u001b[38;5;241m==\u001b[39m Quaternion(\u001b[38;5;241m1\u001b[39m, \u001b[38;5;241m2\u001b[39m, \u001b[38;5;241m0\u001b[39m, \u001b[38;5;241m0\u001b[39m)\n",
      "\u001b[0;31mAssertionError\u001b[0m: "
     ]
    }
   ],
   "source": [
    "assert repr(Quaternion(1, -2, 3, 4)) == \"Quaternion(1, -2, 3, 4)\"\n",
    "\n",
    "assert Quaternion(1) == Quaternion(1, 0, 0, 0)\n",
    "assert Quaternion(1, 2) == Quaternion(1, 2, 0, 0)\n",
    "assert Quaternion(b=2) == Quaternion(0, 2, 0, 0)\n",
    "\n",
    "assert Quaternion(1, 2, 3, 4) - Quaternion(5, 6, 7, 8) == Quaternion(-4, -4, -4, -4)"
   ]
  },
  {
   "cell_type": "code",
   "execution_count": null,
   "metadata": {
    "tags": [
     "pybryt"
    ]
   },
   "outputs": [],
   "source": [
    "with pybryt.check(pybryt_reference(5, 1)):\n",
    "    q1 = Quaternion(1, -2, 3, -4)\n",
    "    q2 = Quaternion(15, 2, 0, -1)\n",
    "\n",
    "    repr(q1), str(q1)\n",
    "    repr(q1 + q2)\n",
    "    repr(q2 - q1)\n",
    "    repr(5 * q1)\n",
    "    repr(q1 * q2)\n",
    "    abs(q1)\n",
    "    repr(q1.conjugate())"
   ]
  },
  {
   "cell_type": "markdown",
   "metadata": {},
   "source": [
    "## Example 2: Building Triangles\n",
    "\n",
    "### Problem Statement\n",
    "\n",
    "The second example we will consider is building a collection of classes to represent the information present in triangles. We've defined a class for points in two dimensions. You'll then use this to define a class for line segments (defined by two points), and then a class for triangles (defined by three points). We'll then add methods to calculate the area and perimeter of the triangle, and the length of the line segment.\n",
    "\n",
    "### The Point Class Defintion\n",
    "\n",
    " We'll define a class to represent a point in 2D space. You will then need to implement a line segment (to represent an edge for a triangle), and finally a triangle. We will add appropriate methods to each class to calculate the area and perimeter of a triangle and the length of a line segment."
   ]
  },
  {
   "cell_type": "code",
   "execution_count": 26,
   "metadata": {},
   "outputs": [],
   "source": [
    "from dataclasses import dataclass\n",
    "\n",
    "\n",
    "@dataclass\n",
    "class Point:\n",
    "    x: float\n",
    "    y: float"
   ]
  },
  {
   "cell_type": "markdown",
   "metadata": {},
   "source": [
    "Here we've used the `dataclass` decorator from the `dataclasses` module to define the class. This is a more concise way to define a class, and is particularly useful when the class is just a container for data.\n",
    "\n",
    "The `dataclass` decorator automatically adds an `__init__` method, and `__repr__` method, and `__eq__` method, and a few other things. The `__init__` method takes the same arguments as the class, and the `__repr__` method returns a string that can be used to recreate the object. The `__eq__` method checks if two objects are equal. "
   ]
  },
  {
   "cell_type": "code",
   "execution_count": 28,
   "metadata": {},
   "outputs": [
    {
     "name": "stdout",
     "output_type": "stream",
     "text": [
      "Point(x=1.0, y=2.0) Point(x=2.5, y=4.0)\n",
      "False\n",
      "True\n"
     ]
    }
   ],
   "source": [
    "# Examples of usage\n",
    "p1 = Point(1.0, 2.0)\n",
    "p2 = Point(x=2.5, y=4.0)\n",
    "\n",
    "print(p1, p2)\n",
    "print(p1 == p2)\n",
    "print(p1 == Point(1.0, 2.0))"
   ]
  },
  {
   "cell_type": "raw",
   "metadata": {},
   "source": [
    "print(p1.x,p1.y)\n",
    "# This is how we can access the coordinate values "
   ]
  },
  {
   "cell_type": "markdown",
   "metadata": {},
   "source": [
    "### The LineSegment Class Implementation\n",
    "\n",
    "Given the `Point` class definition above, we can now implement a `LineSegment` class which takes two `Point` objects as arguments to its `__init__` method. The `__init__` method should store these two points as attributes of the object. We'll also want a `length` method to calculate the length of the line segment."
   ]
  },
  {
   "cell_type": "code",
   "execution_count": 30,
   "metadata": {},
   "outputs": [],
   "source": [
    "class LineSegment:\n",
    "    def __init__(self, start: Point, end: Point):\n",
    "        \"\"\" Initialises the line segment with given start and end points\"\"\" \n",
    "        if not (isinstance(start,Point) and isinstance(end,Point)):\n",
    "            raise TypeError(\"Input values are not Points\")\n",
    "        # Write appropriate code here to store the start and end points\n",
    "        self.start = start\n",
    "        self.end = end \n",
    "        \n",
    "\n",
    "    def __repr__(self):\n",
    "        \"\"\" Returns a string version of the line segment, which can be used to rebuild it.\"\"\" \n",
    "        return f\"LineSegment({self.start}, {self.end})\"\n",
    "\n",
    "    def length(self) -> float:\n",
    "        \"\"\" returns the length of the line segment as a float, using Pythagoras' theorem\"\"\"\n",
    "        # Write appropriate code here, updating the class to\n",
    "        # return the length of the line segment\n",
    "        from math import sqrt\n",
    "        L = sqrt((self.end.x - self.start.x)**2 + (self.end.y - self.start.y)**2)\n",
    "\n",
    "        return L\n",
    "\n",
    "    def midpoint(self):\n",
    "        \"\"\" Finds the midpoint of the line segment and outputs it as a Point object \"\"\" \n",
    "        # We will do this by taking the means of the coordinates of the start and end points: \n",
    "        x_mean = (self.start.x + self.end.x)*0.5\n",
    "        y_mean = (self.start.y + self.end.y)*0.5\n",
    "        return Point(x_mean,y_mean)\n",
    "    \n",
    "    \n",
    "    def intersects(self,other): \n",
    "        \"\"\" returns a boolean corresponding to whether the two line segments intersects. Other must be a line segment\"\"\"\n",
    "        # We insist other must be a line segment and raise an error if it is not \n",
    "        if not isinstance(other,LineSegment): \n",
    "            raise TypeError(\"Argument must be LineSegment\")\n",
    "\n",
    "        # We will take the approach outlined below and use simultaneous parametric equations to solve for parameters t1 and t2\n",
    "        # Then we will impose the condition that t1 and t2 must be between 0 and 1 for an interection to have occurred \n",
    "\n",
    "        # Let us unpack the relevant parameters \n",
    "        px = self.start.x\n",
    "        dpx = self.end.x - px\n",
    "        py = self.start.y\n",
    "        dpy = self.end.y - py\n",
    "        \n",
    "        qx = other.start.x\n",
    "        dqx = other.end.x - qx\n",
    "        qy = other.start.y\n",
    "        dqy = other.end.y - qy\n",
    "\n",
    "        # We write the simultaneous parametric equations as a matrix equation which has a solution if the matrix M= [dpx,-dqx;dpy,-dqy] is invertible\n",
    "        # Implementing this condition\n",
    "        detM = (-dpx*dqy + dpy*dqx)\n",
    "        \n",
    "        if detM == 0: \n",
    "            return False # no solutions for t1,t2\n",
    "\n",
    "        else: \n",
    "            t1 = detM**-1 * (dqy*(px-qx) + dqx*(qy-py))\n",
    "            t2 = detM**-1 * (dpy*(px-qx) + dpx*(qy-py))\n",
    "\n",
    "            if t1 >= 0 and t1 <= 1 and t2 >= 0 and t2 <= 1: \n",
    "                return True \n",
    "            else: \n",
    "                return False \n",
    "            \n",
    "        "
   ]
  },
  {
   "cell_type": "raw",
   "metadata": {},
   "source": [
    "if not False and False: \n",
    "    print(\"brackets allowed\") # From this experiment we learned that not only applies to the next thing in the phrase and if you want it to apply to a collection of things we can use brackets "
   ]
  },
  {
   "cell_type": "markdown",
   "metadata": {},
   "source": [
    "Here we've used the optional \"type hints\" feature of Python to specify the types of the arguments to the `__init__` method. This is not necessary (nor it is checked), but can be useful for documentation and for catching errors. The type hints are specified in the method signature, and are separated from the argument name by a colon. For example, `p1: Point` specifies that `p1` is a `Point` object. Similarly, `-> float` suggests that the `length` method returns a `float` object. Once again, this is not checked anywhere, and only provides a hint to the user, either in code or through documentation.\n",
    "\n",
    "We'll also need some tests on the class:"
   ]
  },
  {
   "cell_type": "code",
   "execution_count": 32,
   "metadata": {
    "tags": [
     "nbgrader"
    ]
   },
   "outputs": [],
   "source": [
    "from math import isclose\n",
    "\n",
    "p1 = Point(0, 0)\n",
    "p2 = Point(3, 4)\n",
    "\n",
    "assert isclose(LineSegment(p1, p2).length(), 5)"
   ]
  },
  {
   "cell_type": "markdown",
   "metadata": {},
   "source": [
    "#### Extending the LineSegment Class\n",
    "\n",
    "\n",
    "- add a method to the `LineSegment` class called `midpoint()`. It should return a `Point` object representing the midpoint of the line segment.\n",
    "- (more challenging) add a method to the `LineSegment` class called `intersects`. It should take another `LineSegment` object as an argument, and return `True` if the two line segments intersect, and `False` otherwise. You can assume that the line segments are not colinear if you'd like to reduce your workload.\n",
    "  As a hint, you can use the following algorithm to check if two line segments intersect:\n",
    "    - We can write any line segment as a parametric equation, i.e. $\\mathbf{r}(t) = \\mathbf{p}_1 + t(\\mathbf{p}_2 - \\mathbf{p}_1)$, where $\\mathbf{p}_1$ and $\\mathbf{p}_2$ are beginning and end of the line segment, and $t$ is a real number between 0 and 1.\n",
    "    - Two line segments intersect if and only if the parametric equations of the two line segments have a common solution, i.e. there exists $t_1$ and $t_2$ such that $\\mathbf{r}_1(t_1) = \\mathbf{r}_2(t_2)$.\n",
    "    - Substituting the parametric equations into the equation $\\mathbf{r}_1(t_1) = \\mathbf{r}_2(t_2)$, we get a system of 2 linear equations in $t_1$ and $t_2$. If the system has a solution (and the values of $t_1$ and $t_2$ are in the range $0-1$), then the line segments intersect."
   ]
  },
  {
   "cell_type": "code",
   "execution_count": 34,
   "metadata": {
    "tags": [
     "nbgrader"
    ]
   },
   "outputs": [],
   "source": [
    "p1 = Point(-2, -2)\n",
    "p2 = Point(2, 2)\n",
    "\n",
    "assert LineSegment(p1, p2).midpoint() == Point(0, 0)\n",
    "\n",
    "line_segment1 = LineSegment(Point(0, 0), Point(10, 10))\n",
    "line_segment2 = LineSegment(Point(1, 1), Point(11, 11))\n",
    "line_segment3 = LineSegment(Point(10, 0), Point(0, 10))\n",
    "line_segment4 = LineSegment(Point(0, 0), Point(10, 10))\n",
    "\n",
    "assert not line_segment1.intersects(line_segment2)\n",
    "assert line_segment1.intersects(line_segment3)\n",
    "assert line_segment3.intersects(line_segment4)"
   ]
  },
  {
   "cell_type": "code",
   "execution_count": 35,
   "metadata": {
    "tags": [
     "pybryt"
    ]
   },
   "outputs": [
    {
     "name": "stdout",
     "output_type": "stream",
     "text": [
      "REFERENCE: exercise-5_2\n",
      "SATISFIED: False\n",
      "MESSAGES:\n",
      "  - SUCCESS: Your repr method is correctly implemented. Well done!\n",
      "  - SUCCESS: Your length method is correct.\n",
      "  - SUCCESS: Your midpoint calculation (x) is correct.\n",
      "  - SUCCESS: Your midpoint calculation (y) is correct.\n",
      "  - ERROR: Your intersection calculation seems to be wrong.\n"
     ]
    }
   ],
   "source": [
    "with pybryt.check(pybryt_reference(5, 2)):\n",
    "    l1 = LineSegment(Point(0, 0), Point(1, 1))\n",
    "    l2 = LineSegment(Point(0, 1), Point(1, 0))\n",
    "\n",
    "    repr(l1)\n",
    "    l1.length()\n",
    "    l2.midpoint().x\n",
    "    l2.midpoint().y\n",
    "    l1.intersects(l2)"
   ]
  },
  {
   "cell_type": "code",
   "execution_count": 36,
   "metadata": {},
   "outputs": [
    {
     "name": "stdout",
     "output_type": "stream",
     "text": [
      "True\n"
     ]
    }
   ],
   "source": [
    "print(l1.intersects(l2)) # It seems to work correctly "
   ]
  },
  {
   "cell_type": "markdown",
   "metadata": {},
   "source": [
    "### The Triangle class Implementation\n",
    "\n",
    "Finally, we need to implement a `Triangle` class. We'll choose to use an initialisation method that takes three `Point` objects as arguments, and stores them as attributes of the object. We'll also want methods to calculate the area and perimeter of the triangle."
   ]
  },
  {
   "cell_type": "code",
   "execution_count": 38,
   "metadata": {},
   "outputs": [],
   "source": [
    "import numpy as np \n",
    "import math\n",
    "\n",
    "class Triangle:\n",
    "    def __init__(self, a: Point, b: Point, c: Point):\n",
    "        \n",
    "        \"\"\" Initialises a Triangle object, defined by three vertex points listed in order. Points must be of the Point class\n",
    "        Note that Triangle(a,b,c) is a different object to Triangle(b,a,c), even though they would be plotted as the same Triangle.\"\"\"\n",
    "        if not (isinstance(a,Point) and isinstance(b,Point) and isinstance(c,Point)):\n",
    "            raise TypeError(\"Input values are not Points\")\n",
    "        \n",
    "        self.A = a\n",
    "        self.B = b\n",
    "        self.C = c\n",
    "        \n",
    "\n",
    "    def area(self) -> float:\n",
    "        \"\"\"Returns the area of the Triangle as a float.\"\"\"\n",
    "        (AB,BC,CA) = self.edges()\n",
    "        (alpha,beta,gamma) = self.angles()\n",
    "\n",
    "        Area = 0.5 * AB.length() * CA.length() * np.sin(alpha)\n",
    "        return Area \n",
    "        \n",
    "\n",
    "    def perimeter(self) -> float:\n",
    "        \"\"\"Returns the perimeter of the Triangle as a float.\"\"\"\n",
    "        (AB,BC,CA) = self.edges()\n",
    "        perimeter = AB.length() + BC.length() + CA.length()\n",
    "        \n",
    "        return perimeter\n",
    "        \n",
    "    \n",
    "    def edges(self): \n",
    "        \"\"\"Returns a 3-D tuple, which contains each of the Triangle's sides as LineSegment objects\n",
    "        The first LineSegment will correspond to the line AB, the second BC, and the third CA\"\"\"\n",
    "        AB = LineSegment(self.A,self.B)\n",
    "        BC = LineSegment(self.B,self.C)\n",
    "        CA = LineSegment(self.C,self.A) \n",
    "\n",
    "        return (AB,BC,CA)\n",
    "\n",
    "    def angles(self): \n",
    "        \"\"\"Returns a 3-D tuple, which contains each of the triangle's interior angles in radians\n",
    "        The first value of the tuple corresponds to the first vertex of the triangle (a)\"\"\"\n",
    "\n",
    "        # We will calculate the angles using the cosine formula and numpy's arccos function\n",
    "        (AB,BC,CA) = self.edges()\n",
    "\n",
    "        # What follows is labelling convention in geometry where the length of the side opposite point A is a \n",
    "        c = AB.length()\n",
    "        a = BC.length()\n",
    "        b = CA.length()\n",
    "        \n",
    "        angle_A = np.arccos((b**2 + c**2 - a**2)/(2*b*c))\n",
    "        angle_B = np.arccos((a**2 + c**2 - b**2)/(2*a*c))\n",
    "        angle_C = np.arccos((b**2 + a**2 - c**2)/(2*b*a)) # np.arccos outputs in radians \n",
    "\n",
    "        return (angle_A,angle_B,angle_C)\n",
    "\n",
    "\n",
    "    def contains_point(self,p: Point):\n",
    "        \"Returns a Boolean, which is True when point p lies within the triangle.\" \n",
    "\n",
    "        # We continue to use the convention that a is the side opposite point A  \n",
    "        # Therefore normal_a is the normal to that side \n",
    "        # We will pair up normal_a with line Bp and take their dot products. normal_b with Cp etc. \n",
    "        \n",
    "        check_BC = (p.x - self.B.x)*(self.C.y - self.B.y) + (p.y - self.B.y)*(self.B.x - self.C.x)\n",
    "        check_CA = (p.x - self.C.x)*(self.A.y - self.C.y) + (p.y - self.C.y)*(self.C.x - self.A.x)\n",
    "        check_AB = (p.x - self.A.x)*(self.B.y - self.A.y) + (p.y - self.A.y)*(self.A.x - self.B.x)\n",
    "\n",
    "        print(check_BC, check_CA, check_AB)\n",
    "\n",
    "        # If all of these are positive, the triangle lies inside the circle. If not, it does not\n",
    "        if check_BC >= 0 and check_CA >= 0 and check_AB >= 0: \n",
    "            return True \n",
    "        elif check_BC <= 0 and check_CA <= 0 and check_AB <= 0: # This was added later \n",
    "            return True \n",
    "        else: \n",
    "            return False\n",
    "        \n",
    "\n",
    "        "
   ]
  },
  {
   "cell_type": "markdown",
   "metadata": {
    "tags": [
     "nbgrader"
    ]
   },
   "source": [
    "# The tests do not seem to align with what we have been asked to do \n",
    "p1 = Point(0, 0)\n",
    "p2 = Point(1, 0)\n",
    "p3 = Point(0, 1)\n",
    "\n",
    "t = Triangle(p1, p2, p3)\n",
    "\n",
    "assert isclose(t.area(), 0.5), \"Check your area calculation\"\n",
    "assert isclose(t.perimeter(), 1 + 1 + math.sqrt(2)), \"Check your perimeter calculation\"\n",
    "#assert isclose(t.edges()[0], 1) # I received a typeError here, saying that the result should be a real number. I disagree. The values of the tuple are line segments corresponsing to the sides\n",
    "\n",
    "#assert isclose(t.edges()[1], math.sqrt(2))\n",
    "#assert isclose(t.edges()[2], 1)\n",
    "assert isclose(t.angles()[0], math.pi / 4)\n",
    "assert isclose(t.angles()[1], math.pi / 2)\n",
    "assert isclose(t.angles()[2], math.pi / 4)\n",
    "assert not t.contains_point(Point(1, 1))"
   ]
  },
  {
   "cell_type": "code",
   "execution_count": 40,
   "metadata": {},
   "outputs": [
    {
     "name": "stdout",
     "output_type": "stream",
     "text": [
      "1.5707963267948968 0.7853981633974481 0.7853981633974481\n",
      "1 -1 -1\n"
     ]
    },
    {
     "data": {
      "text/plain": [
       "False"
      ]
     },
     "execution_count": 40,
     "metadata": {},
     "output_type": "execute_result"
    }
   ],
   "source": [
    "p1 = Point(0, 0)\n",
    "p2 = Point(1, 0)\n",
    "p3 = Point(0, 1)\n",
    "\n",
    "t = Triangle(p1, p2, p3)\n",
    "\n",
    "print(t.angles()[0],t.angles()[1],t.angles()[2])\n",
    "t.contains_point(Point(1, 1))\n",
    "\n",
    "# Okay, so, I've figured it out. the test we were given is wrong. All dot products are EITHER positive or negative -- depending on how you choose to go around the triangle\n",
    "# a line does not have a directionally defined normal, therefore we have a degree of freedom in our sign. "
   ]
  },
  {
   "cell_type": "markdown",
   "metadata": {},
   "source": [
    "### Extending the Triangle Class\n",
    "\n",
    "- add a new method to the `Triangle` class, `edges()`, that returns a `tuple` containing the three `LineSegment`s which form the edges of the `Triangle`. \n",
    "The edges should be ordered so that the first vertex of the first edge is the first vertex of the triangle, and the second vertex of the first edge is the second vertex of the triangle, as well as being the first vertex of the second edge, and so on.\n",
    "- add a method to the `Triangle` class called  `angles()`. It should return a tuple of three floats, each representing the interior angle _in radians_ of the vertices of the triangle, ordered so that the first angle is at the first vertex of the triangle, and so on.\n",
    "- (more challenging) add a method to the `Triangle` class called `contains_point` that takes a `Point` object as an argument, and returns `True` if the point is inside (or on an edge of) the triangle, and `False` otherwise. You can use the following algorithm to solve this problem:\n",
    "  - For each edge of the triangle, calculate the normal vector to the edge.   you can do this by calculating\n",
    "    $$\\mathbf{n} = \\begin{pmatrix} y_2 - y_1 \\\\ x_1 - x_2 \\end{pmatrix},$$\n",
    "    where $(x_1, y_1)$ and $(x_2, y_2)$ are the coordinates of the two vertices of the edge.\n",
    "  - Calculate the vector from one of the vertices of the edge to the point.\n",
    "  - If the dot product of these two vectors is positive for all edges, then the point is inside the triangle. If the dot product is negative for any edge, then the point is outside the triangle. If the dot product is zero for an edge, (and positive for the others) then the point is on the edge of the triangle.\n",
    "  \n",
    "  You can use additional packages such as  `numpy`if you like, but it is not necessary.\n"
   ]
  },
  {
   "cell_type": "markdown",
   "metadata": {
    "tags": [
     "nbgrader"
    ]
   },
   "source": [
    "# Testing here is also strange, and I would like to talk this over \n",
    "p1 = Point(0, 0)\n",
    "p2 = Point(1, 0)\n",
    "p3 = Point(0, 1)\n",
    "\n",
    "t = Triangle(p1, p2, p3)\n",
    "\n",
    "assert isclose(t.edges()[0], 1)\n",
    "assert isclose(t.edges()[1], math.sqrt(2))\n",
    "assert isclose(t.edges()[2], 1)\n",
    "assert isclose(t.angles()[0], math.pi / 4)\n",
    "assert isclose(t.angles()[1], math.pi / 2)\n",
    "assert isclose(t.angles()[2], math.pi / 4)\n",
    "assert not t.contains_point(Point(1, 1))"
   ]
  },
  {
   "cell_type": "markdown",
   "metadata": {},
   "source": [
    "### Extending the shape design via inheritance (optional)\n",
    "\n",
    "- We can also extend functionality to allow for more shapes, such as squares, hexagons and so on. The \"best\" way to do this in Python is to define a new \"abstract\" class called `Polygon` that implements reusable methods for generic shapes (where possible) in terms of the Points or edges of the polygon, and then define a new class for each shape that inherits from `Polygon` as a base class and which implements the methods that are specific to that shape (for example the `area` method for a triangle is different to the `area` method for a square).\n",
    "\n",
    "By defining `Polygon` as "
   ]
  },
  {
   "cell_type": "code",
   "execution_count": 44,
   "metadata": {},
   "outputs": [],
   "source": [
    "from abc import ABC, abstractmethod\n",
    "\n",
    "\n",
    "class Polygon(ABC):\n",
    "    def __init__(self, vertices):\n",
    "        # Write appropriate code here, accepting a collection\n",
    "        # of Points as arguments, a representing a vertex of the polygon.\n",
    "        pass\n",
    "\n",
    "    def perimeter(self):\n",
    "        # Write appropriate code here, returning the perimeter of the polygon\n",
    "        # based on the stored vertices.\n",
    "        pass\n",
    "\n",
    "    def edges(self):\n",
    "        # Write appropriate code here, returning a tuple of LineSegments\n",
    "        # representing the edges of the polygon\n",
    "        pass\n",
    "\n",
    "    @abstractmethod\n",
    "    def area(self):\n",
    "        # Write appropriate code here, returning the area of the polygon\n",
    "        raise NotImplementedError"
   ]
  },
  {
   "cell_type": "code",
   "execution_count": 45,
   "metadata": {},
   "outputs": [],
   "source": [
    "class Quadrilateral(Polygon):\n",
    "    def __init__(self, a, b, c, d):\n",
    "        # Here, super() will call the __init__ method of the parent class -\n",
    "        # Polygon.__init__().\n",
    "        super().__init__(a, b, c, d)\n",
    "\n",
    "    def area(self):\n",
    "        # Write appropriate code here, returning the area of the quadrilateral.\n",
    "        raise NotImplementedError"
   ]
  },
  {
   "cell_type": "markdown",
   "metadata": {},
   "source": [
    "## Example 3: Designing your own class\n",
    "\n",
    "### Problem Statement\n",
    "\n",
    "The final problem is always the most challenging: designing your own class from scratch. We'll give you a problem statement, and you'll need to design a class to solve it. The problem statement is as follows:\n",
    "\n",
    "Build a class to represent the data provided from a [weather station](https://en.wikipedia.org/wiki/Weather_station). The station has the following fixed data attached to it:\n",
    "- A name (a string)\n",
    "- A location (a tuple of two floats, representing the latitude and longitude)\n",
    "- A height above sea level (a float, representing the height in meters)\n",
    "\n",
    "The station also has (at a minimum) the following data that change over time:\n",
    "\n",
    "- A temperature (a float, representing the temperature in degrees Celsius)\n",
    "- A humidity (a float, representing the humidity as a percentage)\n",
    "- The pressure (a float, representing the pressure in hPa)\n",
    "\n",
    "The class should have methods to do the following:\n",
    "\n",
    "- An initialisation method (`__init__`) that takes the name, location, and height above sea level as arguments, and stores them, as well as doing some initialisation of the temperature, humidity and pressure (plus other variables if you've added them).\n",
    "- A method to update the temperature, humidity, and pressure.\n",
    "- Appropriately implemented `__str__` and `__repr__` methods.\n",
    "- Methods to calculate appropriate \"weather\" metrics, such as the [dew point](https://en.wikipedia.org/wiki/Dew_point) (it's ok to use the simplified formula), the [heat index](https://en.wikipedia.org/wiki/Heat_index), and so on, and to convert between different temperature scales (e.g. Celsius, Fahrenheit, Kelvin). You may want to make use of the `@property` decorator to make these methods feel like attributes to the user."
   ]
  },
  {
   "cell_type": "code",
   "execution_count": 47,
   "metadata": {},
   "outputs": [],
   "source": [
    "import pendulum as pnd # So we can store some time data \n",
    "\n",
    "# We will support the following units for temperature: Celsius, Kelvin, Fahrenheit\n",
    "# We will support the following units for pressure: bar, Pascals, mmHg, psi\n",
    "# We will assume equivalent mass units are used for humidity, and that it is stored as a %. \n",
    "\n",
    "class Weather_Station: \n",
    "    def __init__(self,name,location: tuple,elevation):\n",
    "        \"\"\"Initialises an object in the Weather_Station class.\n",
    "            Temperature Data is stored in Celsius and output in different units on request\n",
    "            Pressure Data is stored in bar and output in different units on request.\n",
    "            The times at which each of the variables were last updated are stored as pendulum datetime objects. \n",
    "            \"\"\"\n",
    "        self._name = name\n",
    "        self._latitude = location[0]\n",
    "        self._longitude = location[1]\n",
    "        self._location = location\n",
    "        self._elevation = elevation\n",
    "        self._temperature = None\n",
    "        self._temperature_update_time = None\n",
    "        self._pressure = None\n",
    "        self._pressure_update_time = None\n",
    "        self._humidity = None \n",
    "\n",
    "\n",
    "    def __str__(self):\n",
    "        return f\"{self._name}\"\n",
    "        \n",
    "\n",
    "    def __repr__(self):\n",
    "        return f\"Weather_Station(Name: {self._name}, Location: {self._location}, Elevation: {self._elevation})\"\n",
    "        \n",
    "\n",
    "    def update_T(self,temperature,unit=\"C\"): \n",
    "        if unit == \"C\":\n",
    "            self._temperature = temperature\n",
    "        elif unit == \"F\":\n",
    "            self._temperature = (temperature - 32)/1.8 # This connverts the input to Celsius and saves it in the object\n",
    "        elif unit == \"K\":\n",
    "            self._temperature = temperature + 273.15 # This connverts the input to Celsius and saves it in the object\n",
    "        else: \n",
    "            raise ValueError(\"Temperature unit not supported.\") # If we don't recognise the string input for unit, we return an error\n",
    "\n",
    "        self._temperature_update_time = pnd.now('UTC')\n",
    "        \n",
    "\n",
    "    def update_P(self,pressure,unit=\"bar\"):\n",
    "        if unit == \"bar\":\n",
    "            self._pressure = pressure\n",
    "        elif unit == \"Pa\": \n",
    "            self._pressure = pressure/ 100000 # This converts to bar and saves it in the object \n",
    "        elif unit == \"mmHg\":\n",
    "            self._pressure = pressure/750.06 # This converts to bar and saves it in the object \n",
    "        elif unit == \"psi\":\n",
    "            self._pressure = pressure/14.5 # This converts to bar and saves it in the object \n",
    "        else:\n",
    "            raise ValueError(\"Pressure unit not supported.\") \n",
    "        \n",
    "        self._pressure_update_time = pnd.now('UTC')\n",
    "            \n",
    "\n",
    "    def update_H(self,humidity):\n",
    "        # No need to handle unit conversions here\n",
    "        self._humidity = humidity\n",
    "        self._humidity_update_time = pnd.now('UTC')\n",
    "\n",
    "\n",
    "    def get_T(self,unit=\"C\"):\n",
    "        if unit == \"C\": \n",
    "            return self._temperature\n",
    "        elif unit == \"F\": \n",
    "            return self._temperature * 1.8 + 32\n",
    "        elif unit == \"K\":\n",
    "            return self._temperature + 273.15\n",
    "        else: \n",
    "            raise ValueError(\"Temperature unit not supported.\")\n",
    "            \n",
    "\n",
    "    def get_P(self,unit=\"bar\"): \n",
    "        if unit == \"bar\": \n",
    "            return self._pressure \n",
    "        elif unit == \"Pa\":\n",
    "            return self._pressure * 100000\n",
    "        elif unit == \"mmHg\": \n",
    "            return self._pressure * 750.06\n",
    "        elif unit == \"psi\": \n",
    "            return self._pressure * 14.5\n",
    "        else: \n",
    "            raise valueError(\"Pressure unit not supported.\") \n",
    "            \n",
    "\n",
    "    def get_H(self): \n",
    "        return self._humidity\n",
    "        \n",
    "\n",
    "    def get_time(self,target): \n",
    "        \"\"\"Target can take values \"T\", \"P\" or \"H\" for temperature, pressure, and humidity respectively.\"\"\"\n",
    "        if target == \"T\": \n",
    "            return self._temperature_update_time\n",
    "        elif target == \"P\": \n",
    "            return self._temperature_update_time\n",
    "        elif target == \"H\":\n",
    "            return self._temperature_update_time \n",
    "        else: \n",
    "            raise ValueError(\"Invalid target\")\n",
    "\n",
    "\n",
    "    def dew_point(self):\n",
    "        dp = self._temperature - (100-self._humidity)/5\n",
    "        return dp\n",
    "        \n",
    "\n",
    "    def heat_index(self): \n",
    "        c = [-8.785,1.611,2.339,-0.1461,-0.01231,-0.01642,2.212e-3,7.255e-4,-3.582e-6]\n",
    "        hi =  c[0] + c[1]*self._temperature + c[2]*self._humidity + c[3]*self._temperature*self._humidity + c[4]*self._temperature**2 + c[5]*self._humidity**2 + c[6]*self._temperature**2*self._humidity + c[7]*self._temperature*self._humidity**2 + c[8]*self._temperature**2*self._humidity**2\n",
    "        return hi"
   ]
  },
  {
   "cell_type": "code",
   "execution_count": 48,
   "metadata": {},
   "outputs": [
    {
     "name": "stdout",
     "output_type": "stream",
     "text": [
      "2025-10-03 10:05:32.764326+00:00\n"
     ]
    },
    {
     "data": {
      "text/plain": [
       "tuple"
      ]
     },
     "execution_count": 48,
     "metadata": {},
     "output_type": "execute_result"
    }
   ],
   "source": [
    "print(pnd.now('UTC'))\n",
    "\n",
    "type(('UTC',1))"
   ]
  },
  {
   "cell_type": "code",
   "execution_count": 49,
   "metadata": {},
   "outputs": [
    {
     "name": "stdout",
     "output_type": "stream",
     "text": [
      "Station 1\n",
      "Weather_Station(Name: Station 1, Location: (0, 0), Elevation: 0)\n",
      "37.77777777777778 750.06 14.5 2025-10-03 10:05:32.769579+00:00\n",
      "36 2025-10-03 10:05:32.769681+00:00\n",
      "The dew point for Station1 is: 28.0\n",
      "The Heat index for Station1 is: 48.2269808\n"
     ]
    }
   ],
   "source": [
    "# Let's test if the string functions work\n",
    "Station1 = Weather_Station('Station 1',(0,0),0)\n",
    "print(str(Station1))\n",
    "print(repr(Station1))\n",
    "\n",
    "# Let's check if storing and recalling data works \n",
    "Station1.update_T(100,unit=\"F\")\n",
    "Station1.update_P(1)\n",
    "Station1.update_H(60)\n",
    "\n",
    "print(Station1.get_T(),Station1.get_P(\"mmHg\"),Station1.get_P(\"psi\"),Station1.get_time(\"T\"))\n",
    "\n",
    "# Let's see if changes are made correctly\n",
    "Station1.update_T(36)\n",
    "\n",
    "print(Station1.get_T(),Station1.get_time(\"T\")) # It has changed correctly\n",
    "\n",
    "# Now, lets check our functions\n",
    "print(\"The dew point for Station1 is:\", Station1.dew_point())\n",
    "print(\"The Heat index for Station1 is:\", Station1.heat_index())\n",
    "# Both of these compare favourably to online examples. \n",
    "# I think it's safe to say we have all the functinality we need."
   ]
  },
  {
   "cell_type": "code",
   "execution_count": 51,
   "metadata": {},
   "outputs": [
    {
     "name": "stdout",
     "output_type": "stream",
     "text": [
      "station 1\n",
      "30\n",
      "-3.888888888888889\n",
      "-3.888888888888889\n",
      "269.26111111111106\n"
     ]
    }
   ],
   "source": [
    "# Let's check that the class above does everything it is supposed to do\n",
    "\n",
    "Station1 = Weather_Station('station 1', (0,0), 0)\n",
    "\n",
    "# Let's check __str__\n",
    "print(Station1)\n",
    "\n",
    "#Let's check __repr__\n",
    "Station1.__repr__\n",
    "\n",
    "# Now, let's add a new temperature\n",
    "Station1.update_T(30)\n",
    "print(Station1._temperature)\n",
    "\n",
    "# Let's add two more, one in Fahrenheit and one in a made-up unit 'J', to see what happens \n",
    "Station1.update_T(25,unit=\"F\")\n",
    "try:\n",
    "    Station1.update_T(26,unit=\"J\")\n",
    "except ValueError:\n",
    "    pass\n",
    "\n",
    "print(Station1._temperature)\n",
    "\n",
    "# Now, let us test out our T function, \n",
    "print(Station1.get_T())\n",
    "print(Station1.get_T(unit='K'))"
   ]
  },
  {
   "cell_type": "code",
   "execution_count": null,
   "metadata": {},
   "outputs": [],
   "source": []
  }
 ],
 "metadata": {
  "kernelspec": {
   "display_name": "Python 3 (ipykernel)",
   "language": "python",
   "name": "python3"
  },
  "language_info": {
   "codemirror_mode": {
    "name": "ipython",
    "version": 3
   },
   "file_extension": ".py",
   "mimetype": "text/x-python",
   "name": "python",
   "nbconvert_exporter": "python",
   "pygments_lexer": "ipython3",
   "version": "3.12.2"
  }
 },
 "nbformat": 4,
 "nbformat_minor": 4
}
